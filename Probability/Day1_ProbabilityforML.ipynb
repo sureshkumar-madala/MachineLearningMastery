{
 "cells": [
  {
   "cell_type": "markdown",
   "metadata": {},
   "source": [
    "# Day1"
   ]
  },
  {
   "cell_type": "markdown",
   "metadata": {},
   "source": [
    "**Probability and Machine Learning**\n",
    "\n",
    "In this lesson, you will discover why machine learning practitioners should study probability to improve their skills and capabilities.\n",
    "\n",
    "Probability is a field of mathematics that quantifies uncertainty.\n",
    "\n",
    "Machine learning is about developing predictive modeling from uncertain data. Uncertainty means working with imperfect or incomplete information.\n",
    "\n",
    "Uncertainty is fundamental to the field of machine learning, yet it is one of the aspects that causes the most difficulty for beginners, especially those coming from a developer background.\n",
    "\n",
    "There are three main sources of uncertainty in machine learning; they are:\n",
    "\n",
    "* Noise in observations, e.g. measurement errors and random noise.\n",
    "* Incomplete coverage of the domain, e.g. you can never observe all data.\n",
    "* Imperfect model of the problem, e.g. all models have errors, some are useful.\n",
    "\n",
    "Uncertainty in applied machine learning is managed using probability.\n",
    "\n",
    "Probability and statistics help us to understand and quantify the expected value and variability of variables in our observations from the domain.\n",
    "\n",
    "Probability helps to understand and quantify the expected distribution and density of observations in the domain.\n",
    "\n",
    "Probability helps to understand and quantify the expected capability and variance in performance of our predictive models when applied to new data.\n",
    "\n",
    "This is the bedrock of machine learning. On top of that, we may need models to predict a probability, we may use probability to develop predictive models (e.g. Naive Bayes), and we may use probabilistic frameworks to train predictive models (e.g. maximum likelihood estimation)."
   ]
  },
  {
   "cell_type": "code",
   "execution_count": null,
   "metadata": {},
   "outputs": [],
   "source": []
  }
 ],
 "metadata": {
  "kernelspec": {
   "display_name": "Python 3",
   "language": "python",
   "name": "python3"
  },
  "language_info": {
   "codemirror_mode": {
    "name": "ipython",
    "version": 3
   },
   "file_extension": ".py",
   "mimetype": "text/x-python",
   "name": "python",
   "nbconvert_exporter": "python",
   "pygments_lexer": "ipython3",
   "version": "3.7.4"
  }
 },
 "nbformat": 4,
 "nbformat_minor": 2
}
